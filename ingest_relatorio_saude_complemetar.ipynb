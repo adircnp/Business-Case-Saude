{
 "cells": [
  {
   "cell_type": "markdown",
   "metadata": {},
   "source": [
    "# INGESTÃO DE DADOS SAÚDE SUPLEMENTAR ANS"
   ]
  },
  {
   "cell_type": "markdown",
   "metadata": {},
   "source": [
    "## 1. IMPORT BIBLIOTECA"
   ]
  },
  {
   "cell_type": "code",
   "execution_count": null,
   "metadata": {},
   "outputs": [],
   "source": [
    "import pandas as pd\n",
    "from ftplib import FTP\n",
    "from datetime import datetime\n",
    "import os\n",
    "from io import BytesIO\n",
    "import zipfile\n",
    "import unicodedata\n",
    "import re\n",
    "import warnings\n",
    "warnings.filterwarnings(\"ignore\")\n",
    "warnings.filterwarnings(\"ignore\", category=DeprecationWarning)\n",
    "import pyodbc"
   ]
  },
  {
   "cell_type": "markdown",
   "metadata": {},
   "source": [
    "## 2. CONFIGURAR ESTADOS E PATH BASE"
   ]
  },
  {
   "cell_type": "code",
   "execution_count": null,
   "metadata": {},
   "outputs": [],
   "source": [
    "estados = ['PR', 'SC', 'RS']\n",
    "path_base = '/FTP/PDA/informacoes_consolidadas_de_beneficiarios-024/'\n"
   ]
  },
  {
   "cell_type": "markdown",
   "metadata": {},
   "source": [
    "### 3. CONFIGURAR CONEXÃO COM BANCO DE DADOS"
   ]
  },
  {
   "cell_type": "code",
   "execution_count": null,
   "metadata": {},
   "outputs": [],
   "source": [
    "SERVER = 'ADIR'\n",
    "DATABASE = 'BUSINESS'"
   ]
  },
  {
   "cell_type": "code",
   "execution_count": 12,
   "metadata": {},
   "outputs": [],
   "source": [
    "conn_str = (\n",
    "    f'DRIVER={{ODBC Driver 17 for SQL Server}};'\n",
    "    f'SERVER={SERVER};'\n",
    "    f'DATABASE={DATABASE};'\n",
    "    'Trusted_Connection=yes;'           \n",
    "    'Encrypt=yes;'                      \n",
    "    'TrustServerCertificate=yes;'       \n",
    ")\n"
   ]
  },
  {
   "cell_type": "code",
   "execution_count": 13,
   "metadata": {},
   "outputs": [
    {
     "name": "stdout",
     "output_type": "stream",
     "text": [
      "Conexão bem-sucedida!\n",
      "Versão do SQL Server: Microsoft SQL Server 2022 (RTM) - 16.0.1000.6 (X64) \n",
      "\tOct  8 2022 05:58:25 \n",
      "\tCopyright (C) 2022 Microsoft Corporation\n",
      "\tDeveloper Edition (64-bit) on Windows 10 Pro 10.0 <X64> (Build 26100: ) (Hypervisor)\n",
      "\n"
     ]
    }
   ],
   "source": [
    "try:\n",
    "    with pyodbc.connect(conn_str) as conn:\n",
    "        cursor = conn.cursor()\n",
    "        cursor.execute(\"SELECT @@version;\")\n",
    "        print(\"Conexão bem-sucedida!\\nVersão do SQL Server:\", cursor.fetchone()[0])\n",
    "except Exception as e:\n",
    "    print(\"Erro na conexão:\", str(e))"
   ]
  },
  {
   "cell_type": "code",
   "execution_count": 27,
   "metadata": {},
   "outputs": [
    {
     "data": {
      "text/plain": [
       "'230 Login successful.'"
      ]
     },
     "execution_count": 27,
     "metadata": {},
     "output_type": "execute_result"
    }
   ],
   "source": [
    "ftp = FTP('dadosabertos.ans.gov.br')\n",
    "ftp.login()"
   ]
  },
  {
   "cell_type": "markdown",
   "metadata": {},
   "source": [
    "### 4. DEF PARA GERAR LISTA DOS ULTIMOS 12 MESES"
   ]
  },
  {
   "cell_type": "code",
   "execution_count": null,
   "metadata": {},
   "outputs": [],
   "source": [
    "\n",
    "def gerar_lista_meses():\n",
    "    hoje = datetime.now()\n",
    "    meses =[]\n",
    "\n",
    "    for i in range (12):\n",
    "        ano = hoje.year\n",
    "        mes= hoje.month - i\n",
    "\n",
    "        if mes <= 0:\n",
    "            mes += 12\n",
    "            ano -= 1\n",
    "        \n",
    "        meses.append(f\"{ano}{mes:02d}\")\n",
    "    \n",
    "    return meses"
   ]
  },
  {
   "cell_type": "code",
   "execution_count": 15,
   "metadata": {},
   "outputs": [],
   "source": [
    "meses = gerar_lista_meses()"
   ]
  },
  {
   "cell_type": "code",
   "execution_count": 16,
   "metadata": {},
   "outputs": [
    {
     "data": {
      "text/plain": [
       "['202503',\n",
       " '202502',\n",
       " '202501',\n",
       " '202412',\n",
       " '202411',\n",
       " '202410',\n",
       " '202409',\n",
       " '202408',\n",
       " '202407',\n",
       " '202406',\n",
       " '202405',\n",
       " '202404']"
      ]
     },
     "execution_count": 16,
     "metadata": {},
     "output_type": "execute_result"
    }
   ],
   "source": [
    "meses"
   ]
  },
  {
   "cell_type": "markdown",
   "metadata": {},
   "source": [
    "## 5. LISTA PARA ARMAZENAR"
   ]
  },
  {
   "cell_type": "code",
   "execution_count": null,
   "metadata": {},
   "outputs": [],
   "source": [
    "dfs = []"
   ]
  },
  {
   "cell_type": "markdown",
   "metadata": {},
   "source": [
    "## 6. LOOP PARA BAIXAR ARQUIVOS"
   ]
  },
  {
   "cell_type": "code",
   "execution_count": 19,
   "metadata": {},
   "outputs": [
    {
     "name": "stdout",
     "output_type": "stream",
     "text": [
      " Diretório 202503 não encontrado\n",
      " Diretório 202502 não encontrado\n",
      " 202501/PR carregado\n",
      " 202501/SC carregado\n",
      " 202501/RS carregado\n",
      " 202412/PR carregado\n",
      " 202412/SC carregado\n",
      " 202412/RS carregado\n",
      " 202411/PR carregado\n",
      " 202411/SC carregado\n",
      " 202411/RS carregado\n",
      " 202410/PR carregado\n",
      " 202410/SC carregado\n",
      " 202410/RS carregado\n",
      " 202409/PR carregado\n",
      " 202409/SC carregado\n",
      " 202409/RS carregado\n",
      " 202408/PR carregado\n",
      " 202408/SC carregado\n",
      " 202408/RS carregado\n",
      " 202407/PR carregado\n",
      " 202407/SC carregado\n",
      " 202407/RS carregado\n",
      " 202406/PR carregado\n",
      " 202406/SC carregado\n",
      " 202406/RS carregado\n",
      " 202405/PR carregado\n",
      " 202405/SC carregado\n",
      " 202405/RS carregado\n",
      " 202404/PR carregado\n",
      " 202404/SC carregado\n",
      " 202404/RS carregado\n",
      "\n",
      "Resumo dos dados:\n",
      "Total de registros: 25,962,177\n",
      "Estados encontrados: ['PR' 'SC' 'RS']\n",
      "\n",
      "Primeiras linhas:\n",
      "  ID_CMPT_MOVEL  CD_OPERADORA  \\\n",
      "0       2025-01        371254   \n",
      "1       2025-01        336831   \n",
      "2       2025-01        416401   \n",
      "3       2025-01        371254   \n",
      "4       2025-01        304484   \n",
      "\n",
      "                                     NM_RAZAO_SOCIAL         NR_CNPJ  \\\n",
      "0    UNIMED REGIONAL MARINGÁ COOP.DE TRABALHO MÉDICO  76767219000182   \n",
      "1    IRMANDADE SANTA CASA DE MISERICÓRDIA DE MARINGÁ  79115762000193   \n",
      "2  CAIXA DE ASSISTÊNCIA DOS EMPREGADOS DA EMPRESA...   8097092000181   \n",
      "3    UNIMED REGIONAL MARINGÁ COOP.DE TRABALHO MÉDICO  76767219000182   \n",
      "4              DENTAL UNI - COOPERATIVA ODONTOLÓGICA  78738101000151   \n",
      "\n",
      "       MODALIDADE_OPERADORA SG_UF  CD_MUNICIPIO NM_MUNICIPIO TP_SEXO  \\\n",
      "0        COOPERATIVA MÉDICA    PR        411420   Mandaguari       M   \n",
      "1               FILANTROPIA    PR        411520      Maringá       F   \n",
      "2                AUTOGESTÃO    PR        411370     Londrina       M   \n",
      "3        COOPERATIVA MÉDICA    PR        411750     Paiçandu       F   \n",
      "4  COOPERATIVA ODONTOLÓGICA    PR        410580      Colombo       M   \n",
      "\n",
      "  DE_FAIXA_ETARIA  ... TP_VIGENCIA_PLANO    DE_CONTRATACAO_PLANO  \\\n",
      "0    15 a 17 anos  ...                 P    Coletivo Empresarial   \n",
      "1    65 a 69 anos  ...                 P  Individual ou Familiar   \n",
      "2    65 a 69 anos  ...                 P    Coletivo Empresarial   \n",
      "3    45 a 49 anos  ...                 P    Coletivo Empresarial   \n",
      "4    50 a 54 anos  ...                 P  Individual ou Familiar   \n",
      "\n",
      "                        DE_SEGMENTACAO_PLANO DE_ABRG_GEOGRAFICA_PLANO  \\\n",
      "0  Ambulatorial + Hospitalar com obstetrícia                 Nacional   \n",
      "1  Ambulatorial + Hospitalar com obstetrícia      Grupo de municípios   \n",
      "2  Ambulatorial + Hospitalar com obstetrícia                 Nacional   \n",
      "3  Ambulatorial + Hospitalar com obstetrícia      Grupo de municípios   \n",
      "4                               Odontológico                 Estadual   \n",
      "\n",
      "  COBERTURA_ASSIST_PLAN TIPO_VINCULO QT_BENEFICIARIO_ATIVO  \\\n",
      "0     Médico-hospitalar   Dependente                     1   \n",
      "1     Médico-hospitalar   Dependente                    15   \n",
      "2     Médico-hospitalar      Titular                    22   \n",
      "3     Médico-hospitalar      Titular                    12   \n",
      "4          Odontológico      Titular                    10   \n",
      "\n",
      "  QT_BENEFICIARIO_ADERIDO  QT_BENEFICIARIO_CANCELADO    DT_CARGA  \n",
      "0                       0                          0  2025-02-28  \n",
      "1                       0                          0  2025-02-28  \n",
      "2                       0                          0  2025-02-28  \n",
      "3                       0                          1  2025-02-28  \n",
      "4                       0                          0  2025-02-28  \n",
      "\n",
      "[5 rows x 22 columns]\n"
     ]
    },
    {
     "data": {
      "text/plain": [
       "'221 Goodbye.'"
      ]
     },
     "execution_count": 19,
     "metadata": {},
     "output_type": "execute_result"
    }
   ],
   "source": [
    "\n",
    "for periodo in gerar_lista_meses():\n",
    "    try:\n",
    "        ftp.cwd(path_base + periodo + '/')\n",
    "        \n",
    "        for estado in estados:\n",
    "            nome_arquivo = f'pda-024-icb-{estado}-{periodo[:4]}_{periodo[4:]}.zip'\n",
    "            \n",
    "            try:\n",
    "                buffer = BytesIO()\n",
    "                ftp.retrbinary(f'RETR {nome_arquivo}', buffer.write)\n",
    "                buffer.seek(0)\n",
    "                \n",
    "                with zipfile.ZipFile(buffer) as zip_ref:\n",
    "                    with zip_ref.open(zip_ref.namelist()[0]) as arquivo_csv:\n",
    "                        df = pd.read_csv(\n",
    "                            arquivo_csv, \n",
    "                            sep=';', \n",
    "                            encoding='utf-8',\n",
    "                            dtype={'CNPJ': 'str'},\n",
    "                            low_memory=False\n",
    "                        )\n",
    "                        dfs.append(df)\n",
    "                \n",
    "                print(f\" {periodo}/{estado} carregado\")\n",
    "                \n",
    "            except Exception as e:\n",
    "                print(f\" Erro em {nome_arquivo}: {str(e)[:50]}...\")\n",
    "                \n",
    "    except Exception as e:\n",
    "        print(f\" Diretório {periodo} não encontrado\")\n",
    "\n",
    "if dfs:\n",
    "    df_final = pd.concat(dfs, ignore_index=True)\n",
    "    \n",
    "    print(\"\\nResumo dos dados:\")\n",
    "    print(f\"Total de registros: {len(df_final):,}\")\n",
    "    print(f\"Estados encontrados: {df_final['SG_UF'].unique()}\")\n",
    "    print(\"\\nPrimeiras linhas:\")\n",
    "    print(df_final.head())\n",
    "else:\n",
    "    print(\"Nenhum dado válido encontrado\")\n",
    "\n",
    "ftp.quit()"
   ]
  },
  {
   "cell_type": "markdown",
   "metadata": {},
   "source": [
    "## 7. TRATAMENTO DE DADOS"
   ]
  },
  {
   "cell_type": "code",
   "execution_count": 20,
   "metadata": {},
   "outputs": [
    {
     "data": {
      "text/plain": [
       "ID_CMPT_MOVEL                 0\n",
       "CD_OPERADORA                  0\n",
       "NM_RAZAO_SOCIAL               0\n",
       "NR_CNPJ                       0\n",
       "MODALIDADE_OPERADORA          0\n",
       "SG_UF                         0\n",
       "CD_MUNICIPIO                  0\n",
       "NM_MUNICIPIO                  0\n",
       "TP_SEXO                       0\n",
       "DE_FAIXA_ETARIA               0\n",
       "DE_FAIXA_ETARIA_REAJ          0\n",
       "CD_PLANO                     40\n",
       "TP_VIGENCIA_PLANO             0\n",
       "DE_CONTRATACAO_PLANO          0\n",
       "DE_SEGMENTACAO_PLANO          0\n",
       "DE_ABRG_GEOGRAFICA_PLANO      0\n",
       "COBERTURA_ASSIST_PLAN         0\n",
       "TIPO_VINCULO                  0\n",
       "QT_BENEFICIARIO_ATIVO         0\n",
       "QT_BENEFICIARIO_ADERIDO       0\n",
       "QT_BENEFICIARIO_CANCELADO     0\n",
       "DT_CARGA                      0\n",
       "dtype: int64"
      ]
     },
     "execution_count": 20,
     "metadata": {},
     "output_type": "execute_result"
    }
   ],
   "source": [
    "\n",
    "df_final.isnull().sum()"
   ]
  },
  {
   "cell_type": "code",
   "execution_count": 21,
   "metadata": {},
   "outputs": [],
   "source": [
    "df_final=df_final.dropna(subset=['CD_PLANO'])"
   ]
  },
  {
   "cell_type": "code",
   "execution_count": 28,
   "metadata": {},
   "outputs": [
    {
     "data": {
      "text/html": [
       "<div>\n",
       "<style scoped>\n",
       "    .dataframe tbody tr th:only-of-type {\n",
       "        vertical-align: middle;\n",
       "    }\n",
       "\n",
       "    .dataframe tbody tr th {\n",
       "        vertical-align: top;\n",
       "    }\n",
       "\n",
       "    .dataframe thead th {\n",
       "        text-align: right;\n",
       "    }\n",
       "</style>\n",
       "<table border=\"1\" class=\"dataframe\">\n",
       "  <thead>\n",
       "    <tr style=\"text-align: right;\">\n",
       "      <th></th>\n",
       "      <th>ID_CMPT_MOVEL</th>\n",
       "      <th>CD_OPERADORA</th>\n",
       "      <th>NM_RAZAO_SOCIAL</th>\n",
       "      <th>NR_CNPJ</th>\n",
       "      <th>MODALIDADE_OPERADORA</th>\n",
       "      <th>SG_UF</th>\n",
       "      <th>CD_MUNICIPIO</th>\n",
       "      <th>NM_MUNICIPIO</th>\n",
       "      <th>TP_SEXO</th>\n",
       "      <th>DE_FAIXA_ETARIA</th>\n",
       "      <th>...</th>\n",
       "      <th>TP_VIGENCIA_PLANO</th>\n",
       "      <th>DE_CONTRATACAO_PLANO</th>\n",
       "      <th>DE_SEGMENTACAO_PLANO</th>\n",
       "      <th>DE_ABRG_GEOGRAFICA_PLANO</th>\n",
       "      <th>COBERTURA_ASSIST_PLAN</th>\n",
       "      <th>TIPO_VINCULO</th>\n",
       "      <th>QT_BENEFICIARIO_ATIVO</th>\n",
       "      <th>QT_BENEFICIARIO_ADERIDO</th>\n",
       "      <th>QT_BENEFICIARIO_CANCELADO</th>\n",
       "      <th>DT_CARGA</th>\n",
       "    </tr>\n",
       "  </thead>\n",
       "  <tbody>\n",
       "    <tr>\n",
       "      <th>0</th>\n",
       "      <td>2025-01</td>\n",
       "      <td>371254</td>\n",
       "      <td>UNIMED REGIONAL MARINGÁ COOP.DE TRABALHO MÉDICO</td>\n",
       "      <td>76767219000182</td>\n",
       "      <td>COOPERATIVA MÉDICA</td>\n",
       "      <td>PR</td>\n",
       "      <td>411420</td>\n",
       "      <td>Mandaguari</td>\n",
       "      <td>M</td>\n",
       "      <td>15 a 17 anos</td>\n",
       "      <td>...</td>\n",
       "      <td>P</td>\n",
       "      <td>Coletivo Empresarial</td>\n",
       "      <td>Ambulatorial + Hospitalar com obstetrícia</td>\n",
       "      <td>Nacional</td>\n",
       "      <td>Médico-hospitalar</td>\n",
       "      <td>Dependente</td>\n",
       "      <td>1</td>\n",
       "      <td>0</td>\n",
       "      <td>0</td>\n",
       "      <td>2025-02-28</td>\n",
       "    </tr>\n",
       "    <tr>\n",
       "      <th>1</th>\n",
       "      <td>2025-01</td>\n",
       "      <td>336831</td>\n",
       "      <td>IRMANDADE SANTA CASA DE MISERICÓRDIA DE MARINGÁ</td>\n",
       "      <td>79115762000193</td>\n",
       "      <td>FILANTROPIA</td>\n",
       "      <td>PR</td>\n",
       "      <td>411520</td>\n",
       "      <td>Maringá</td>\n",
       "      <td>F</td>\n",
       "      <td>65 a 69 anos</td>\n",
       "      <td>...</td>\n",
       "      <td>P</td>\n",
       "      <td>Individual ou Familiar</td>\n",
       "      <td>Ambulatorial + Hospitalar com obstetrícia</td>\n",
       "      <td>Grupo de municípios</td>\n",
       "      <td>Médico-hospitalar</td>\n",
       "      <td>Dependente</td>\n",
       "      <td>15</td>\n",
       "      <td>0</td>\n",
       "      <td>0</td>\n",
       "      <td>2025-02-28</td>\n",
       "    </tr>\n",
       "    <tr>\n",
       "      <th>2</th>\n",
       "      <td>2025-01</td>\n",
       "      <td>416401</td>\n",
       "      <td>CAIXA DE ASSISTÊNCIA DOS EMPREGADOS DA EMPRESA...</td>\n",
       "      <td>8097092000181</td>\n",
       "      <td>AUTOGESTÃO</td>\n",
       "      <td>PR</td>\n",
       "      <td>411370</td>\n",
       "      <td>Londrina</td>\n",
       "      <td>M</td>\n",
       "      <td>65 a 69 anos</td>\n",
       "      <td>...</td>\n",
       "      <td>P</td>\n",
       "      <td>Coletivo Empresarial</td>\n",
       "      <td>Ambulatorial + Hospitalar com obstetrícia</td>\n",
       "      <td>Nacional</td>\n",
       "      <td>Médico-hospitalar</td>\n",
       "      <td>Titular</td>\n",
       "      <td>22</td>\n",
       "      <td>0</td>\n",
       "      <td>0</td>\n",
       "      <td>2025-02-28</td>\n",
       "    </tr>\n",
       "    <tr>\n",
       "      <th>3</th>\n",
       "      <td>2025-01</td>\n",
       "      <td>371254</td>\n",
       "      <td>UNIMED REGIONAL MARINGÁ COOP.DE TRABALHO MÉDICO</td>\n",
       "      <td>76767219000182</td>\n",
       "      <td>COOPERATIVA MÉDICA</td>\n",
       "      <td>PR</td>\n",
       "      <td>411750</td>\n",
       "      <td>Paiçandu</td>\n",
       "      <td>F</td>\n",
       "      <td>45 a 49 anos</td>\n",
       "      <td>...</td>\n",
       "      <td>P</td>\n",
       "      <td>Coletivo Empresarial</td>\n",
       "      <td>Ambulatorial + Hospitalar com obstetrícia</td>\n",
       "      <td>Grupo de municípios</td>\n",
       "      <td>Médico-hospitalar</td>\n",
       "      <td>Titular</td>\n",
       "      <td>12</td>\n",
       "      <td>0</td>\n",
       "      <td>1</td>\n",
       "      <td>2025-02-28</td>\n",
       "    </tr>\n",
       "    <tr>\n",
       "      <th>4</th>\n",
       "      <td>2025-01</td>\n",
       "      <td>304484</td>\n",
       "      <td>DENTAL UNI - COOPERATIVA ODONTOLÓGICA</td>\n",
       "      <td>78738101000151</td>\n",
       "      <td>COOPERATIVA ODONTOLÓGICA</td>\n",
       "      <td>PR</td>\n",
       "      <td>410580</td>\n",
       "      <td>Colombo</td>\n",
       "      <td>M</td>\n",
       "      <td>50 a 54 anos</td>\n",
       "      <td>...</td>\n",
       "      <td>P</td>\n",
       "      <td>Individual ou Familiar</td>\n",
       "      <td>Odontológico</td>\n",
       "      <td>Estadual</td>\n",
       "      <td>Odontológico</td>\n",
       "      <td>Titular</td>\n",
       "      <td>10</td>\n",
       "      <td>0</td>\n",
       "      <td>0</td>\n",
       "      <td>2025-02-28</td>\n",
       "    </tr>\n",
       "  </tbody>\n",
       "</table>\n",
       "<p>5 rows × 22 columns</p>\n",
       "</div>"
      ],
      "text/plain": [
       "  ID_CMPT_MOVEL  CD_OPERADORA  \\\n",
       "0       2025-01        371254   \n",
       "1       2025-01        336831   \n",
       "2       2025-01        416401   \n",
       "3       2025-01        371254   \n",
       "4       2025-01        304484   \n",
       "\n",
       "                                     NM_RAZAO_SOCIAL         NR_CNPJ  \\\n",
       "0    UNIMED REGIONAL MARINGÁ COOP.DE TRABALHO MÉDICO  76767219000182   \n",
       "1    IRMANDADE SANTA CASA DE MISERICÓRDIA DE MARINGÁ  79115762000193   \n",
       "2  CAIXA DE ASSISTÊNCIA DOS EMPREGADOS DA EMPRESA...   8097092000181   \n",
       "3    UNIMED REGIONAL MARINGÁ COOP.DE TRABALHO MÉDICO  76767219000182   \n",
       "4              DENTAL UNI - COOPERATIVA ODONTOLÓGICA  78738101000151   \n",
       "\n",
       "       MODALIDADE_OPERADORA SG_UF  CD_MUNICIPIO NM_MUNICIPIO TP_SEXO  \\\n",
       "0        COOPERATIVA MÉDICA    PR        411420   Mandaguari       M   \n",
       "1               FILANTROPIA    PR        411520      Maringá       F   \n",
       "2                AUTOGESTÃO    PR        411370     Londrina       M   \n",
       "3        COOPERATIVA MÉDICA    PR        411750     Paiçandu       F   \n",
       "4  COOPERATIVA ODONTOLÓGICA    PR        410580      Colombo       M   \n",
       "\n",
       "  DE_FAIXA_ETARIA  ... TP_VIGENCIA_PLANO    DE_CONTRATACAO_PLANO  \\\n",
       "0    15 a 17 anos  ...                 P    Coletivo Empresarial   \n",
       "1    65 a 69 anos  ...                 P  Individual ou Familiar   \n",
       "2    65 a 69 anos  ...                 P    Coletivo Empresarial   \n",
       "3    45 a 49 anos  ...                 P    Coletivo Empresarial   \n",
       "4    50 a 54 anos  ...                 P  Individual ou Familiar   \n",
       "\n",
       "                        DE_SEGMENTACAO_PLANO DE_ABRG_GEOGRAFICA_PLANO  \\\n",
       "0  Ambulatorial + Hospitalar com obstetrícia                 Nacional   \n",
       "1  Ambulatorial + Hospitalar com obstetrícia      Grupo de municípios   \n",
       "2  Ambulatorial + Hospitalar com obstetrícia                 Nacional   \n",
       "3  Ambulatorial + Hospitalar com obstetrícia      Grupo de municípios   \n",
       "4                               Odontológico                 Estadual   \n",
       "\n",
       "  COBERTURA_ASSIST_PLAN TIPO_VINCULO QT_BENEFICIARIO_ATIVO  \\\n",
       "0     Médico-hospitalar   Dependente                     1   \n",
       "1     Médico-hospitalar   Dependente                    15   \n",
       "2     Médico-hospitalar      Titular                    22   \n",
       "3     Médico-hospitalar      Titular                    12   \n",
       "4          Odontológico      Titular                    10   \n",
       "\n",
       "  QT_BENEFICIARIO_ADERIDO  QT_BENEFICIARIO_CANCELADO    DT_CARGA  \n",
       "0                       0                          0  2025-02-28  \n",
       "1                       0                          0  2025-02-28  \n",
       "2                       0                          0  2025-02-28  \n",
       "3                       0                          1  2025-02-28  \n",
       "4                       0                          0  2025-02-28  \n",
       "\n",
       "[5 rows x 22 columns]"
      ]
     },
     "execution_count": 28,
     "metadata": {},
     "output_type": "execute_result"
    }
   ],
   "source": [
    "df_final.head()"
   ]
  },
  {
   "cell_type": "code",
   "execution_count": 23,
   "metadata": {},
   "outputs": [
    {
     "data": {
      "text/plain": [
       "NM_RAZAO_SOCIAL\n",
       "ODONTOPREV S/A                                            2030917\n",
       "UNIMED PORTO ALEGRE - COOPERATIVA MÉDICA LTDA.            1035117\n",
       "DENTAL UNI - COOPERATIVA ODONTOLÓGICA                     1033311\n",
       "UNIMED NACIONAL - COOPERATIVA CENTRAL                     1025469\n",
       "AMIL ASSISTÊNCIA MÉDICA INTERNACIONAL S.A.                 940946\n",
       "                                                           ...   \n",
       "SANTA RITA SISTEMA DE SAUDE LTDA                                2\n",
       "CUIDAR.ME SAÚDE SA                                              2\n",
       "SUL DO PARÁ LTDA                                                2\n",
       "VIDA TOP MAIS SAÚDE OPERADORA DE PLANOS DE SAÚDE LTDA.          1\n",
       "UNIMED MORRINHOS COOPERATIVA DE TRABALHO MEDICO                 1\n",
       "Name: count, Length: 684, dtype: int64"
      ]
     },
     "execution_count": 23,
     "metadata": {},
     "output_type": "execute_result"
    }
   ],
   "source": [
    "df_final['NM_RAZAO_SOCIAL'].value_counts()"
   ]
  },
  {
   "cell_type": "code",
   "execution_count": 24,
   "metadata": {},
   "outputs": [
    {
     "data": {
      "text/plain": [
       "ID_CMPT_MOVEL                object\n",
       "CD_OPERADORA                  int64\n",
       "NM_RAZAO_SOCIAL              object\n",
       "NR_CNPJ                       int64\n",
       "MODALIDADE_OPERADORA         object\n",
       "SG_UF                        object\n",
       "CD_MUNICIPIO                  int64\n",
       "NM_MUNICIPIO                 object\n",
       "TP_SEXO                      object\n",
       "DE_FAIXA_ETARIA              object\n",
       "DE_FAIXA_ETARIA_REAJ         object\n",
       "CD_PLANO                     object\n",
       "TP_VIGENCIA_PLANO            object\n",
       "DE_CONTRATACAO_PLANO         object\n",
       "DE_SEGMENTACAO_PLANO         object\n",
       "DE_ABRG_GEOGRAFICA_PLANO     object\n",
       "COBERTURA_ASSIST_PLAN        object\n",
       "TIPO_VINCULO                 object\n",
       "QT_BENEFICIARIO_ATIVO         int64\n",
       "QT_BENEFICIARIO_ADERIDO       int64\n",
       "QT_BENEFICIARIO_CANCELADO     int64\n",
       "DT_CARGA                     object\n",
       "dtype: object"
      ]
     },
     "execution_count": 24,
     "metadata": {},
     "output_type": "execute_result"
    }
   ],
   "source": [
    "df_final.dtypes"
   ]
  },
  {
   "cell_type": "code",
   "execution_count": 29,
   "metadata": {},
   "outputs": [],
   "source": [
    "df_final.to_csv('dados.csv', sep=';', index=False, encoding='utf-8')"
   ]
  },
  {
   "cell_type": "code",
   "execution_count": 32,
   "metadata": {},
   "outputs": [],
   "source": [
    "chunksize = 100000\n",
    "for chunk in pd.read_csv('dados.csv', sep=';', chunksize=chunksize, encoding='utf-8'):\n",
    "    dados = [tuple(row) for row in chunk.values]\n",
    "    \n",
    "    query = \"\"\"\n",
    "    INSERT INTO dbo.Staging_Beneficiarios (\n",
    "        D_CMPT_MOVEL, \n",
    "        CD_OPERADORA, \n",
    "        NM_RAZAO_SOCIAL, \n",
    "        NR_CNPJ, \n",
    "        MODALIDADE_OPERADORA, \n",
    "        SG_UF, \n",
    "        CD_MUNICIPIO, \n",
    "        NM_MUNICIPIO, \n",
    "        TP_SEXO, \n",
    "        DE_FAIXA_ETARIA, \n",
    "        DE_FAIXA_ETARIA_REAJ, \n",
    "        CD_PLANO, \n",
    "        TP_VIGENCIA_PLANO, \n",
    "        DE_CONTRATACAO_PLANO, \n",
    "        DE_SEGMENTACAO_PLANO, \n",
    "        DE_ABRG_GEOGRAFICA_PLANO, \n",
    "        COBERTURA_ASSIST_PLAN, \n",
    "        TIPO_VINCULO, \n",
    "        QT_BENEFICIARIO_ATIVO, \n",
    "        QT_BENEFICIARIO_ADERIDO, \n",
    "        QT_BENEFICIARIO_CANCELADO, \n",
    "        DT_CARGA\n",
    "    ) \n",
    "    VALUES (?, ?, ?, ?, ?, ?, ?, ?, ?, ?, ?, ?, ?, ?, ?, ?, ?, ?, ?, ?, ?, ?)\n",
    "    \"\"\"\n",
    "    \n",
    "\n",
    "    cursor = conn.cursor()\n",
    "    cursor.fast_executemany = True\n",
    "    cursor.executemany(query, dados)\n",
    "    conn.commit()"
   ]
  }
 ],
 "metadata": {
  "kernelspec": {
   "display_name": ".venv",
   "language": "python",
   "name": "python3"
  },
  "language_info": {
   "codemirror_mode": {
    "name": "ipython",
    "version": 3
   },
   "file_extension": ".py",
   "mimetype": "text/x-python",
   "name": "python",
   "nbconvert_exporter": "python",
   "pygments_lexer": "ipython3",
   "version": "3.13.2"
  }
 },
 "nbformat": 4,
 "nbformat_minor": 2
}
